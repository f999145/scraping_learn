{
 "cells": [
  {
   "cell_type": "code",
   "execution_count": 5,
   "metadata": {},
   "outputs": [],
   "source": [
    "from scrapingbee import ScrapingBeeClient\n",
    "from bs4 import BeautifulSoup as BS\n",
    "\n",
    "client = ScrapingBeeClient(api_key='HN5DMCCN2TMMBED94MLEKX0647PMHBHALLM9KMHW47OOASKD72TNX84CIWGTUPRZQCXX2XMLDON6MD68')\n",
    "response = client.get('YOUR-URL')"
   ]
  },
  {
   "cell_type": "code",
   "execution_count": 6,
   "metadata": {},
   "outputs": [],
   "source": [
    "api_key = 'HN5DMCCN2TMMBED94MLEKX0647PMHBHALLM9KMHW47OOASKD72TNX84CIWGTUPRZQCXX2XMLDON6MD68'\n",
    "url = 'https://2ip.ru/'\n",
    "url2 = 'https://www.panda-novel.com/top'\n",
    "url3 = 'https://www.panda-novel.com/details/shadow-slave(4)-1413/chapters'"
   ]
  },
  {
   "cell_type": "code",
   "execution_count": 8,
   "metadata": {},
   "outputs": [
    {
     "name": "stdout",
     "output_type": "stream",
     "text": [
      "Response HTTP Status Code:  500\n"
     ]
    }
   ],
   "source": [
    "client = ScrapingBeeClient(api_key=api_key)\n",
    "response = client.get(url3)\n",
    "\n",
    "print('Response HTTP Status Code: ', response.status_code)\n",
    "\n",
    "with open('test.html', 'w', encoding='utf-8') as file:\n",
    "    file.write(response.text)"
   ]
  }
 ],
 "metadata": {
  "kernelspec": {
   "display_name": "Python 3",
   "language": "python",
   "name": "python3"
  },
  "language_info": {
   "codemirror_mode": {
    "name": "ipython",
    "version": 3
   },
   "file_extension": ".py",
   "mimetype": "text/x-python",
   "name": "python",
   "nbconvert_exporter": "python",
   "pygments_lexer": "ipython3",
   "version": "3.11.0"
  },
  "orig_nbformat": 4
 },
 "nbformat": 4,
 "nbformat_minor": 2
}
