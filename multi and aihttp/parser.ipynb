{
 "cells": [
  {
   "cell_type": "code",
   "execution_count": 2,
   "metadata": {},
   "outputs": [],
   "source": [
    "import json\n",
    "from zipfile import ZipFile\n",
    "from bs4 import BeautifulSoup as BS\n",
    "import pandas as pd\n",
    "\n"
   ]
  },
  {
   "cell_type": "code",
   "execution_count": 4,
   "metadata": {},
   "outputs": [
    {
     "name": "stdout",
     "output_type": "stream",
     "text": [
      "https://zakupki.gov.ru/epz/complaint/card/complaint-information.html?id=2258441\n"
     ]
    }
   ],
   "source": [
    "# Загрузка линков из json\n",
    "# --------------------------------------------\n",
    "with open('data/links_list.json', 'r', encoding='utf-8') as file:\n",
    "    tmp = file.read()\n",
    "    links_list = json.loads(tmp)\n",
    "print(links_list[0])"
   ]
  },
  {
   "cell_type": "code",
   "execution_count": 33,
   "metadata": {},
   "outputs": [],
   "source": [
    "with ZipFile('data/pages.zip') as zip_file:\n",
    "    item = zip_file.filelist[0]\n",
    "    with zip_file.open(item.filename) as file:\n",
    "        page = file.read().decode()"
   ]
  },
  {
   "cell_type": "code",
   "execution_count": 34,
   "metadata": {},
   "outputs": [
    {
     "data": {
      "text/plain": [
       "6"
      ]
     },
     "execution_count": 34,
     "metadata": {},
     "output_type": "execute_result"
    }
   ],
   "source": [
    "soup = BS(page, 'html.parser')\n",
    "cards = soup.find('div', class_='card-common').find_all('section', class_='common-text b-bottom pb-3')\n",
    "len(cards)\n"
   ]
  },
  {
   "cell_type": "code",
   "execution_count": 35,
   "metadata": {},
   "outputs": [],
   "source": [
    "result = !python scripts/parsing_01.py\n",
    "card = json.loads(result[0])"
   ]
  },
  {
   "cell_type": "code",
   "execution_count": 36,
   "metadata": {},
   "outputs": [
    {
     "data": {
      "text/plain": [
       "9    637\n",
       "8    320\n",
       "7     40\n",
       "6      3\n",
       "Name: count, dtype: int64"
      ]
     },
     "execution_count": 36,
     "metadata": {},
     "output_type": "execute_result"
    }
   ],
   "source": [
    "df = pd.DataFrame({'count':card})\n",
    "df['count'].value_counts()"
   ]
  },
  {
   "cell_type": "code",
   "execution_count": 48,
   "metadata": {},
   "outputs": [
    {
     "data": {
      "text/plain": [
       "['Сведения о передаче по подведомственности',\n",
       " 'Орган, передавший жалобу',\n",
       " 'Дата передачи',\n",
       " 'ФЕДЕРАЛЬНАЯ АНТИМОНОПОЛЬНАЯ СЛУЖБА',\n",
       " '05.04.2023',\n",
       " 'Документы',\n",
       " 'Печатная форма документа, подписанного поставщиком',\n",
       " 'Вложение.txt']"
      ]
     },
     "execution_count": 48,
     "metadata": {},
     "output_type": "execute_result"
    }
   ],
   "source": [
    "list(cards[5].stripped_strings)"
   ]
  },
  {
   "cell_type": "code",
   "execution_count": 12,
   "metadata": {},
   "outputs": [],
   "source": [
    "result = !python scripts/parsing_01.py\n",
    "test = json.loads(result[0])"
   ]
  },
  {
   "cell_type": "code",
   "execution_count": 15,
   "metadata": {},
   "outputs": [
    {
     "data": {
      "text/plain": [
       "Место нахождения                                                                                2197\n",
       "Номер телефона                                                                                  2179\n",
       "Содержание жалобы                                                                               1999\n",
       "ИНН                                                                                             1997\n",
       "Печатная форма документа, подписанного поставщиком                                              1901\n",
       "Документы                                                                                       1722\n",
       "Полное наименование                                                                             1367\n",
       "КПП                                                                                             1366\n",
       "Наименование организации                                                                        1179\n",
       "Субъект контроля                                                                                1179\n",
       "Почтовый адрес                                                                                  1175\n",
       "Жалоба                                                                                          1006\n",
       "Информация о субъекте контроля                                                                  1000\n",
       "Тип                                                                                             1000\n",
       "Данные участника контрактной системы в сфере закупок, подавшего жалобу                          1000\n",
       "Адрес электронной почты                                                                          999\n",
       "Дата постановки на учет в налоговом органе                                                       998\n",
       "Дата передачи                                                                                    998\n",
       "Орган, передавший жалобу                                                                         998\n",
       "Информация о контрольном органе в сфере закупок                                                  998\n",
       "Дата размещения извещения об осуществлении\\n                                         закупки     996\n",
       "Сведения о закупке                                                                               996\n",
       "Номер извещения                                                                                  996\n",
       "Наименование закупки                                                                             996\n",
       "Идентификационный код закупки                                                                    996\n",
       "Сведения о передаче по подведомственности                                                        985\n",
       "Место рассмотрения жалобы                                                                        958\n",
       "Дата принятия жалобы к рассмотрению                                                              958\n",
       "Сведения о принятии жалобы к рассмотрению                                                        958\n",
       "Дата и время рассмотрения жалобы                                                                 958\n",
       "ФЕДЕРАЛЬНАЯ АНТИМОНОПОЛЬНАЯ СЛУЖБА                                                               948\n",
       "Вложение.txt                                                                                     903\n",
       "Решение                                                                                          670\n",
       "Сведения о результатах рассмотрения жалобы                                                       637\n",
       "Результат рассмотрения жалобы                                                                    637\n",
       "Размещены результаты контроля №                                                                  637\n",
       "Место нахождения на территории РФ                                                                631\n",
       "Фамилия, Имя, Отчество                                                                           631\n",
       "Индивидуальный предприниматель                                                                   629\n",
       "Неправомерные требования извещения                                                               521\n",
       "03.02.2023 00:00                                                                                 512\n",
       "КНЯЗЕВА ОЛЬГА НИКОЛАЕВНА                                                                         512\n",
       "ottoscholz@inbox.ru                                                                              512\n",
       "774312534834                                                                                     512\n",
       "7 9257232677                                                                                     512\n",
       "Name: src, dtype: int64"
      ]
     },
     "execution_count": 15,
     "metadata": {},
     "output_type": "execute_result"
    }
   ],
   "source": [
    "tes = pd.DataFrame({'src': test})\n",
    "ts = tes['src'].value_counts()\n",
    "ts[ts>500]"
   ]
  }
 ],
 "metadata": {
  "kernelspec": {
   "display_name": "Python 3",
   "language": "python",
   "name": "python3"
  },
  "language_info": {
   "codemirror_mode": {
    "name": "ipython",
    "version": 3
   },
   "file_extension": ".py",
   "mimetype": "text/x-python",
   "name": "python",
   "nbconvert_exporter": "python",
   "pygments_lexer": "ipython3",
   "version": "3.11.0"
  },
  "orig_nbformat": 4
 },
 "nbformat": 4,
 "nbformat_minor": 2
}
